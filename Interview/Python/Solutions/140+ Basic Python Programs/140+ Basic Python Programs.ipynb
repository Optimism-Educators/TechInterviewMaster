{
 "cells": [
  {
   "cell_type": "markdown",
   "id": "5ebf50c7",
   "metadata": {},
   "source": [
    "<div align=\"center\">\n",
    "<a href=\"https://github.com/iamAntimPal/TechInterviewMaster\">\n",
    "  <img height=\"25px\" src=\"https://img.shields.io/github/stars/iamAntimPal/TechInterviewMaster?style=social\" alt=\"GitHub stars\"></a>\n",
    "  <a href=\"https://github.com/iamAntimPal/TechInterviewMaster\">\n",
    "  <img height=\"25px\" src=\"https://img.shields.io/github/forks/iamAntimPal/TechInterviewMaster?style=social\" alt=\"GitHub forks\"></a>\n",
    "  <a href=\"https://github.com/iamAntimPal/TechInterviewMaster/forks\">\n",
    "  <img height=\"25px\" src=\"https://img.shields.io/github/contributors/iamAntimPal/TechInterviewMaster\" alt=\"Contributors\"></a>\n",
    "  <a href=\"https://github.com/iamAntimPal/TechInterviewMaster/pulls\">\n",
    "  <img height=\"25px\" src=\"https://img.shields.io/github/issues-pr/iamAntimPal/TechInterviewMaster\" alt=\"Pull Requests\"></a>\n",
    "  <a href=\"https://github.com/iamAntimPal/TechInterviewMaster/License\">\n",
    "  <img height=\"25px\" src=\"https://img.shields.io/github/issues/iamAntimPal/TechInterviewMaster\" alt=\"Issues\"></a>\n",
    "  <a href=\"\"><img height=\"25px\" src=\"https://img.shields.io/github/license/iamAntimPal/TechInterviewMaster\" alt=\"License\"></a>\n",
    "  <a href=\"https://makeapullrequest.com\"><img height=\"25px\" src=\"https://img.shields.io/badge/PRs-welcome-brightgreen.svg?style=flat-square\" alt=\"PRs Welcome\"></a>\n",
    "  <a href=\"\">\n",
    "  <img height=\"25px\" src=\"https://img.shields.io/github/last-commit/iamAntimPal/TechInterviewMaster\"/></a>\n",
    "</div>"
   ]
  },
  {
   "cell_type": "markdown",
   "id": "a02132d5",
   "metadata": {},
   "source": [
    "# 📚 140+ Basic Python Programs\n",
    "\n",
    "A comprehensive collection of 140+ basic Python programs for beginners and interview preparation."
   ]
  },
  {
   "cell_type": "markdown",
   "id": "756cf651",
   "metadata": {},
   "source": [
    "## 🗂️ Index\n",
    "\n",
    "- [About the Repository](#about-the-repository)\n",
    "- [Roadmap](#roadmap)\n",
    "- [Project Structure](#project-structure)\n",
    "- [Contributing](#contributing)\n",
    "- [Support](#support)\n",
    "- [Process](#process)"
   ]
  },
  {
   "cell_type": "markdown",
   "id": "3ac72d95",
   "metadata": {},
   "source": [
    "## 📝 About the Repository\n",
    "\n",
    "This repository contains solutions to 140+ basic Python programming problems. It is designed for beginners, students, and anyone preparing for coding interviews. Each program is self-contained and covers fundamental concepts such as variables, loops, conditionals, functions, and data structures."
   ]
  },
  {
   "cell_type": "markdown",
   "id": "029d8155",
   "metadata": {},
   "source": [
    "## 🛣️ Roadmap\n",
    "\n",
    "- [x] Add 140+ basic Python programs\n",
    "- [x] Organize programs by topic\n",
    "- [ ] Add explanations and comments to all programs\n",
    "- [ ] Add test cases for each program\n",
    "- [ ] Review and improve code quality\n",
    "- [ ] Invite community contributions"
   ]
  },
  {
   "cell_type": "markdown",
   "id": "c44d8d9e",
   "metadata": {},
   "source": [
    "## 📁 Project Structur\n",
    "```"
   ]
  },
  {
   "cell_type": "markdown",
   "id": "6fac74c1",
   "metadata": {},
   "source": [
    "## 🤝 Contributing\n",
    "\n",
    "Contributions are welcome!\n",
    "\n",
    "- Fork the repository\n",
    "- Create a new branch\n",
    "- Add your program or improvement\n",
    "- Submit a pull request\n",
    "\n",
    "Please read the [CONTRIBUTING.md](../../CONTRIBUTING.md) and [CODE_OF_CONDUCT.md](../../CODE_OF_CONDUCT.md) before contributing."
   ]
  },
  {
   "cell_type": "markdown",
   "id": "5b8d0fc6",
   "metadata": {},
   "source": [
    "## 💬 Support\n",
    "\n",
    "If you have any questions or suggestions, feel free to open an issue or contact the maintainers."
   ]
  },
  {
   "cell_type": "markdown",
   "id": "1a1973be",
   "metadata": {},
   "source": [
    "## 📝 Process\n",
    "\n",
    "1. Select a program or topic to contribute.\n",
    "2. Write or improve the code and add comments.\n",
    "3. Test your code.\n",
    "4. Commit your changes with a descriptive message.\n",
    "5. Open a pull request for review.\n",
    "6. Address any feedback and get your PR merged!"
   ]
  },
  {
   "cell_type": "markdown",
   "id": "0c59194a",
   "metadata": {},
   "source": [
    "### Program 1"
   ]
  },
  {
   "cell_type": "markdown",
   "id": "f97bc968",
   "metadata": {},
   "source": [
    "**Program 1: Write a Python program to print \"Hello World\" 10 times.**"
   ]
  },
  {
   "cell_type": "code",
   "execution_count": 11,
   "id": "761668a5",
   "metadata": {},
   "outputs": [
    {
     "name": "stdout",
     "output_type": "stream",
     "text": [
      "Hello World\n",
      "Hello World\n"
     ]
    }
   ],
   "source": [
    "# Problem: Write a Python program to print \"Hello World\" 10 times.\n",
    "# Solution1: Using print function\n",
    "print(\"Hello World\")\n",
    "print(\"Hello World\")\n"
   ]
  },
  {
   "cell_type": "code",
   "execution_count": 3,
   "id": "cf2e35b7",
   "metadata": {},
   "outputs": [
    {
     "name": "stdout",
     "output_type": "stream",
     "text": [
      "Hello World\n",
      "Hello World\n",
      "Hello World\n",
      "Hello World\n",
      "Hello World\n",
      "Hello World\n",
      "Hello World\n",
      "Hello World\n",
      "Hello World\n",
      "Hello World\n",
      "Hello World\n"
     ]
    }
   ],
   "source": [
    "\n",
    "# Solution2: Using a loop\n",
    "\n",
    "for i in range(10):\n",
    "     print(\"Hello World\")\n",
    "print(\"Hello World\")\n",
    "# Another way to print \"Hello World\" 10 times using a functionṇd a loop\n"
   ]
  },
  {
   "cell_type": "code",
   "execution_count": 4,
   "id": "5c3523bf",
   "metadata": {},
   "outputs": [
    {
     "name": "stdout",
     "output_type": "stream",
     "text": [
      "Hello World\n",
      "Hello World\n",
      "Hello World\n",
      "Hello World\n",
      "Hello World\n",
      "Hello World\n",
      "Hello World\n",
      "Hello World\n",
      "Hello World\n",
      "Hello World\n"
     ]
    }
   ],
   "source": [
    "\n",
    "# Solution3: Using a function and a loop\n",
    "def print_hello_world(n):\n",
    "     \"\"\"\n",
    "     This function prints \"Hello World\" n times.\n",
    "     \"\"\"\n",
    "     for _ in range(n):\n",
    "          print(\"Hello World\")\n",
    "\n",
    "print_hello_world(10)\n",
    "# Another way to print \"Hello World\" 10 times using a functionṇd a loop"
   ]
  },
  {
   "cell_type": "code",
   "execution_count": 5,
   "id": "684fb9fa",
   "metadata": {},
   "outputs": [
    {
     "name": "stdout",
     "output_type": "stream",
     "text": [
      "Hello World\n",
      "Hello World\n",
      "Hello World\n",
      "Hello World\n",
      "Hello World\n",
      "Hello World\n",
      "Hello World\n",
      "Hello World\n",
      "Hello World\n",
      "Hello World\n"
     ]
    }
   ],
   "source": [
    "\n",
    "# Solution4: Using a function and a loop\n",
    "def print_hello_world(n):\n",
    "    \"\"\"\n",
    "    This function prints \"Hello World\" n times.\n",
    "    \"\"\"\n",
    "    for _ in range(n):\n",
    "        print(\"Hello World\")\n",
    "print_hello_world(10)\n",
    "# Another way to print \"Hello World\" 10 times using a functionṇd a loop\n"
   ]
  },
  {
   "cell_type": "markdown",
   "id": "872fe82b",
   "metadata": {},
   "source": [
    "### Program 2"
   ]
  },
  {
   "cell_type": "markdown",
   "id": "27259b85",
   "metadata": {},
   "source": [
    "**Program 2: Write a Python program to do arithmetical operations addition and division.**"
   ]
  },
  {
   "cell_type": "code",
   "execution_count": 10,
   "id": "53e36609",
   "metadata": {},
   "outputs": [
    {
     "name": "stdout",
     "output_type": "stream",
     "text": [
      "The sum of 123 and 123 is 246\n",
      "The division of 123 and 123 is 1.0\n"
     ]
    }
   ],
   "source": [
    "# Write a Python program to do arithmetical operations addition and division.\n",
    "num1 = int(input(\"Enter first number: \"))\n",
    "num2 = int(input(\"Enter second number: \"))\n",
    "\n",
    "# Addition\n",
    "sum = num1 + num2\n",
    "print(\"The sum of {0} and {1} is {2}\".format(num1, num2, sum))\n",
    "# Division\n",
    "div = num1 / num2\n",
    "print(\"The division of {0} and {1} is {2}\".format(num1, num2, div))"
   ]
  },
  {
   "cell_type": "markdown",
   "id": "737195f7",
   "metadata": {},
   "source": [
    "### Program 3\n"
   ]
  },
  {
   "cell_type": "markdown",
   "id": "002bd8ee",
   "metadata": {},
   "source": [
    "**Program 3:**"
   ]
  },
  {
   "cell_type": "code",
   "execution_count": 15,
   "id": "a1c0263d",
   "metadata": {},
   "outputs": [
    {
     "name": "stdout",
     "output_type": "stream",
     "text": [
      "base : 5.0\n",
      "Height is : 7.0\n",
      "The area of the triangle is: 17.5\n"
     ]
    }
   ],
   "source": [
    "# Python program to find the area of a triangle\n",
    "\n",
    "# Input from user\n",
    "base = float(input(\"Enter the base of the triangle: \"))\n",
    "height = float(input(\"Enter the height of the triangle: \"))\n",
    "\n",
    "# Calculate area\n",
    "area = 0.5 * base * height\n",
    "\n",
    "# Print base\n",
    "print(\"base :\",base)\n",
    "\n",
    "# Height\n",
    "print(\"Height is :\",height)\n",
    "# Display result\n",
    "print(\"The area of the triangle is:\", area)"
   ]
  },
  {
   "cell_type": "markdown",
   "id": "0d7893c6",
   "metadata": {},
   "source": [
    "### Program 4"
   ]
  },
  {
   "cell_type": "markdown",
   "id": "3f0768f3",
   "metadata": {},
   "source": [
    "****"
   ]
  },
  {
   "cell_type": "code",
   "execution_count": null,
   "id": "89b66ba1",
   "metadata": {},
   "outputs": [],
   "source": []
  }
 ],
 "metadata": {
  "kernelspec": {
   "display_name": "Python 3",
   "language": "python",
   "name": "python3"
  },
  "language_info": {
   "codemirror_mode": {
    "name": "ipython",
    "version": 3
   },
   "file_extension": ".py",
   "mimetype": "text/x-python",
   "name": "python",
   "nbconvert_exporter": "python",
   "pygments_lexer": "ipython3",
   "version": "3.13.2"
  }
 },
 "nbformat": 4,
 "nbformat_minor": 5
}
